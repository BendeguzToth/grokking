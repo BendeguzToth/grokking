{
 "cells": [
  {
   "cell_type": "markdown",
   "id": "986fb198",
   "metadata": {},
   "source": [
    " # Grokking on permutation composition"
   ]
  },
  {
   "cell_type": "code",
   "execution_count": 1,
   "id": "e92bd7f2",
   "metadata": {},
   "outputs": [],
   "source": [
    "%matplotlib inline\n",
    "from matplotlib import pyplot as plt\n",
    "from math import factorial\n",
    "import torch\n",
    "from torch import Tensor\n",
    "from torch.nn.functional import cross_entropy\n",
    "from torch.optim import AdamW\n",
    "from torch.optim.lr_scheduler import LambdaLR\n",
    "from net import Grokformer\n",
    "from data_factory import create_algorithmic, permutation_composition"
   ]
  },
  {
   "cell_type": "markdown",
   "id": "63544936",
   "metadata": {},
   "source": [
    "### Helper function\n",
    "Define a function to evaluate the model on some data."
   ]
  },
  {
   "cell_type": "code",
   "execution_count": 2,
   "id": "4e4b3d22",
   "metadata": {},
   "outputs": [],
   "source": [
    "def get_acc(model: Grokformer, data: Tensor, labels: Tensor):\n",
    "    model.train(False)\n",
    "    with torch.no_grad():\n",
    "        scores = model(data)\n",
    "        res = torch.argmax(scores, dim=1, keepdim=False)\n",
    "    match = torch.where(res == labels, True, False)\n",
    "    return torch.count_nonzero(match).cpu().item() / match.shape[0]"
   ]
  },
  {
   "cell_type": "markdown",
   "id": "06e5ed17",
   "metadata": {},
   "source": [
    "### Training\n",
    "Training the network on compositions of permutations of $S_5$, on 50% of the dataset."
   ]
  },
  {
   "cell_type": "markdown",
   "id": "3eed1257",
   "metadata": {},
   "source": [
    "Parameters"
   ]
  },
  {
   "cell_type": "code",
   "execution_count": 3,
   "id": "7a52fdbd",
   "metadata": {},
   "outputs": [],
   "source": [
    "steps = 20000\n",
    "train_ratio = 0.5\n",
    "group_size = 5\n",
    "device = torch.device(\"cuda:0\")"
   ]
  },
  {
   "cell_type": "markdown",
   "id": "ac57b3b0",
   "metadata": {},
   "source": [
    "Creating the data."
   ]
  },
  {
   "cell_type": "code",
   "execution_count": 4,
   "id": "c31614ea",
   "metadata": {},
   "outputs": [],
   "source": [
    "data = create_algorithmic(factorial(group_size), permutation_composition(group_size), device)\n",
    "# Filter instances where <y> = 0, we don't need those as they are invalid.\n",
    "idx = torch.where(data[:, 2] == 0, False, True)\n",
    "data = data[idx]"
   ]
  },
  {
   "cell_type": "code",
   "execution_count": null,
   "id": "7eec4994",
   "metadata": {},
   "outputs": [],
   "source": [
    "# These record accuracy values throughout training, wil be used when plotting.\n",
    "accs_tr = []\n",
    "accs_val = []\n",
    "\n",
    "# Create random train and validation sets.\n",
    "data_index = torch.randperm(data.shape[0], device=device)\n",
    "split = int(data.shape[0] * train_ratio)\n",
    "training_set = data[data_index[:split]]\n",
    "validation_set = data[data_index[split:]]\n",
    "\n",
    "# Creating the model.\n",
    "net = Grokformer(num_embeddings=122, embedding_dim=128, device=device)\n",
    "optimizer = AdamW(net.parameters(), lr=1e-3, weight_decay=1., betas=(0.9, 0.98))\n",
    "scheduler = LambdaLR(optimizer, lambda e: min(e/10, 1.))\n",
    "\n",
    "# Training and evaluating after each epoch.\n",
    "c = 0\n",
    "while True:\n",
    "    # Creating input data and labels.\n",
    "    for start in range(0, training_set.shape[0], 512):\n",
    "        net.train(True)\n",
    "        d = training_set[start:start + 512]  # d: (batch_size, 5)\n",
    "        x = d[:, :-1]  # x: (batch_size, 4)\n",
    "        y = d[:, -1].flatten()  # y: (batch_size,)\n",
    "\n",
    "        optimizer.zero_grad()\n",
    "\n",
    "        scores = net(x)\n",
    "        loss = cross_entropy(input=scores, target=y.to(torch.long))\n",
    "\n",
    "        loss.backward()\n",
    "        optimizer.step()\n",
    "        if scheduler:\n",
    "            scheduler.step()\n",
    "\n",
    "        print(f\"Optim step {c}\")\n",
    "        acc_train = get_acc(net, training_set[:, :-1], training_set[:, -1].flatten().to(torch.long))\n",
    "        accs_tr.append(acc_train)\n",
    "        print(f\"Training accuracy:\\t{acc_train*100:.3f}%\")\n",
    "\n",
    "        acc_val = get_acc(net, validation_set[:, :-1], validation_set[:, -1].flatten().to(torch.long))\n",
    "        accs_val.append(acc_val)\n",
    "        print(f\"Validation accuracy:\\t{acc_val * 100:.3f}%\\n\")\n",
    "        c += 1\n",
    "        if c >= steps:\n",
    "            break\n",
    "    if c >= steps:\n",
    "        break"
   ]
  },
  {
   "cell_type": "markdown",
   "id": "b1631d58",
   "metadata": {},
   "source": [
    "### Plot the results\n",
    "Only plot every $\\mathcal{skip}$ points, otherwise the plot gets too cluttered and it becomes really hard to see anything."
   ]
  },
  {
   "cell_type": "code",
   "execution_count": 10,
   "id": "372d8428",
   "metadata": {},
   "outputs": [
    {
     "data": {
      "image/png": "[encoded data removed]",
      "text/plain": [
       "<Figure size 720x360 with 1 Axes>"
      ]
     },
     "metadata": {
      "needs_background": "light"
     },
     "output_type": "display_data"
    }
   ],
   "source": [
    "skip = 110\n",
    "plt.figure(figsize=(10,5))\n",
    "plt.xscale(\"log\")\n",
    "s = slice(None, None, skip)\n",
    "nums = list(range((len(accs_val))))\n",
    "plt.plot(nums[s], accs_tr[s], label=\"Training accuracy\")\n",
    "plt.plot(nums[s], accs_val[s], label=\"Validation accuracy\")\n",
    "plt.legend(loc=\"upper left\")\n",
    "plt.show()"
   ]
  }
 ],
 "metadata": {
  "kernelspec": {
   "display_name": "Python 3",
   "language": "python",
   "name": "python3"
  },
  "language_info": {
   "codemirror_mode": {
    "name": "ipython",
    "version": 3
   },
   "file_extension": ".py",
   "mimetype": "text/x-python",
   "name": "python",
   "nbconvert_exporter": "python",
   "pygments_lexer": "ipython3",
   "version": "3.7.8"
  }
 },
 "nbformat": 4,
 "nbformat_minor": 5
}
